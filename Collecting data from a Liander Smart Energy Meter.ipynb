{
 "cells": [
  {
   "cell_type": "markdown",
   "metadata": {},
   "source": [
    "# Collecting data from a Liander Smart Energy Meter \n",
    "(In Dutch: Uitlezen van de slimme meter van Alliander/Liander)\n",
    "\n",
    "Author: Marcel van den Bosch (email: marcel@marcel.im)\n",
    "\n",
    "Date:06-Jun-2018\n",
    "\n",
    "In the example we establish a serial rs-232 connection to the smart meter device, using the P1 port.\n",
    "The metering data is transmitted as a \"telegram\" packet. This telegram contains data, such the meter readings and\n",
    "meter ID code.\n",
    "\n",
    "![title](img/smartmeter_p1.png)\n",
    "\n",
    "To do:\n",
    "- Expose functionality as a REST API\n",
    "- Write a service that can feed an InfluxDB timeseries database and develop some Grafana dashboards.\n"
   ]
  },
  {
   "cell_type": "code",
   "execution_count": 1,
   "metadata": {},
   "outputs": [],
   "source": [
    "import sys\n",
    "import serial\n",
    "import re"
   ]
  },
  {
   "cell_type": "code",
   "execution_count": 2,
   "metadata": {},
   "outputs": [],
   "source": [
    "ser = serial.Serial()\n",
    "ser.baudrate = 115200\n",
    "ser.bytesize=serial.EIGHTBITS\n",
    "ser.parity=serial.PARITY_NONE\n",
    "ser.stopbits=serial.STOPBITS_ONE\n",
    "ser.xonxoff=0\n",
    "ser.rtscts=0\n",
    "ser.timeout=20\n",
    "ser.port=\"/dev/ttyUSB0\""
   ]
  },
  {
   "cell_type": "code",
   "execution_count": 3,
   "metadata": {},
   "outputs": [],
   "source": [
    "#Open COM port\n",
    "try:\n",
    "    ser.open()\n",
    "except:\n",
    "    print (\"Cannot open device:\"  % ser.name)"
   ]
  },
  {
   "cell_type": "code",
   "execution_count": 4,
   "metadata": {},
   "outputs": [],
   "source": [
    "def getSmartMeterData(inSerial,printOutput = False,verbose = False):\n",
    "    buffer=[]\n",
    "    telegram_start = False;\n",
    "    # Empty dict\n",
    "    data = {}\n",
    "    \n",
    "    while True:\n",
    "        p1_line_in=''\n",
    "        \n",
    "        try:\n",
    "            p1_raw = ser.readline()\n",
    "        except:\n",
    "            print (\"Error reading from port.\" % ser.name )\n",
    "            return(False)\n",
    "        \n",
    "        p1_str=str(p1_raw, \"utf-8\")\n",
    "        p1_line_in=p1_str.strip()\n",
    "        \n",
    "        if telegram_start == False:\n",
    "            if len(p1_line_in) >0:\n",
    "                if p1_line_in[0] == \"/\":\n",
    "                    buffer.append(p1_line_in)\n",
    "                    if verbose == True: print (\"Line:\",p1_line_in)\n",
    "                    telegram_start = True\n",
    "        else:\n",
    "            buffer.append(p1_line_in)\n",
    "            if verbose == True: print (\"Line:\",p1_line_in)\n",
    "            \n",
    "            if len(p1_line_in) >0:\n",
    "                if p1_line_in[0] == \"!\":\n",
    "                    telegram_start = False\n",
    "                    if len(buffer) == 26:\n",
    "                        break\n",
    "                    else:\n",
    "                        print(\"Corrupt packet, expected length %i got %i -> Retrying!\" % (26,len(buffer)))\n",
    "                        buffer = []\n",
    "\n",
    "    for line in buffer:\n",
    "        if re.search(\"1-0:1.8.1\", line):\n",
    "            data['READING_POWER_IN_LOW_TARIFF'] = float(re.search(r'\\(([\\d\\.]*)\\*', line).group(1));\n",
    "            if printOutput == True: print(\"Meter Reading electricity delivered to client (low tariff) in 0,001 kWh:\\t\\t%.3f kWh\" %\n",
    "                                     float(re.search(r'\\(([\\d\\.]*)\\*', line).group(1)))\n",
    "        elif re.search(\"1-0:1.8.2\", line):\n",
    "            data['READING_POWER_IN_NORM_TARIFF'] = float(re.search(r'\\(([\\d\\.]*)\\*', line).group(1));\n",
    "            if printOutput == True: print(\"Meter Reading electricity delivered to client (normal tariff) in 0,001 kWh:\\t\\t%.3f kWh\" %\n",
    "                                      float(re.search(r'\\(([\\d\\.]*)\\*', line).group(1)))\n",
    "        elif re.search(\"1-0:2.8.1\", line):\n",
    "            data['READING_POWER_OUT_LOW_TARIFF'] = float(re.search(r'\\(([\\d\\.]*)\\*', line).group(1))\n",
    "            if printOutput == True: print(\"Meter Reading electricity delivered by client (low tariff) in 0,001 kWh:\\t\\t%.3f kWh\" % \n",
    "                                      float(re.search(r'\\(([\\d\\.]*)\\*', line).group(1)))\n",
    "        elif re.search(\"1-0:2.8.2\", line):\n",
    "            data['READING_POWER_OUT_NORM_TARIFF'] = float(re.search(r'\\(([\\d\\.]*)\\*', line).group(1))\n",
    "            if printOutput == True: print(\"Meter Reading electricity delivered by client (normal tariff) in 0,001 kWh:\\t\\t%.3f kWh\" %\n",
    "                                      float(re.search(r'\\(([\\d\\.]*)\\*', line).group(1)))\n",
    "        elif re.search(\"1-0:1.7.0\", line):\n",
    "            data['ACTUAL_POWER_IN'] = float(re.search(r'\\(([\\d\\.]*)\\*', line).group(1))\n",
    "            if printOutput == True: print(\"Actual electricity power delivered (+P) in 1 Watt resolution:\\t\\t\\t\\t%.3f kW\" % \n",
    "                                      float(re.search(r'\\(([\\d\\.]*)\\*', line).group(1)))        \n",
    "        elif re.search(\"1-0:2.7.0\", line):\n",
    "            data['ACTUAL_POWER_OUT'] = float(re.search(r'\\(([\\d\\.]*)\\*', line).group(1))\n",
    "            if printOutput == True: print(\"Actual electricity power received (-P) in 1 Watt resolution:\\t\\t\\t\\t%.3f kW\" %\n",
    "                                      float(re.search(r'\\(([\\d\\.]*)\\*', line).group(1)))        \n",
    "        # Gasmeter: 0-1:24.3.0\n",
    "        elif re.search(\"0-1:24.2.1\", line):\n",
    "            data['READING_GAS_IN'] = float(re.search(r'\\(([\\d\\.]*)\\*', line).group(1))\n",
    "            if printOutput == True: print(\"Gas Data - Gas delivered to client in m3:\\t\\t\\t\\t\\t\\t%.3f m3\" %\n",
    "                                     float(re.search(r'\\(([\\d\\.]*)\\*', line).group(1)))                \n",
    "       # else:\n",
    "               # pass\n",
    "    buffer = []\n",
    "    return(data)"
   ]
  },
  {
   "cell_type": "code",
   "execution_count": 5,
   "metadata": {},
   "outputs": [
    {
     "name": "stdout",
     "output_type": "stream",
     "text": [
      "Meter Reading electricity delivered to client (low tariff) in 0,001 kWh:\t\t10.060 kWh\n",
      "Meter Reading electricity delivered to client (normal tariff) in 0,001 kWh:\t\t14.043 kWh\n",
      "Meter Reading electricity delivered by client (low tariff) in 0,001 kWh:\t\t0.000 kWh\n",
      "Meter Reading electricity delivered by client (normal tariff) in 0,001 kWh:\t\t0.000 kWh\n",
      "Actual electricity power delivered (+P) in 1 Watt resolution:\t\t\t\t0.456 kW\n",
      "Actual electricity power received (-P) in 1 Watt resolution:\t\t\t\t0.000 kW\n",
      "Gas Data - Gas delivered to client in m3:\t\t\t\t\t\t2.373 m3\n"
     ]
    },
    {
     "data": {
      "text/plain": [
       "{'ACTUAL_POWER_IN': 0.456,\n",
       " 'ACTUAL_POWER_OUT': 0.0,\n",
       " 'READING_GAS_IN': 2.373,\n",
       " 'READING_POWER_IN_LOW_TARIFF': 10.06,\n",
       " 'READING_POWER_IN_NORM_TARIFF': 14.043,\n",
       " 'READING_POWER_OUT_LOW_TARIFF': 0.0,\n",
       " 'READING_POWER_OUT_NORM_TARIFF': 0.0}"
      ]
     },
     "execution_count": 5,
     "metadata": {},
     "output_type": "execute_result"
    }
   ],
   "source": [
    "getSmartMeterData(ser,printOutput = True, verbose = False)"
   ]
  },
  {
   "cell_type": "markdown",
   "metadata": {},
   "source": [
    "## Measure actual power consumption over a brief moment in time"
   ]
  },
  {
   "cell_type": "code",
   "execution_count": 6,
   "metadata": {},
   "outputs": [],
   "source": [
    "import time\n",
    "import datetime\n",
    "import numpy as np\n",
    "import pandas as pd"
   ]
  },
  {
   "cell_type": "code",
   "execution_count": 7,
   "metadata": {},
   "outputs": [],
   "source": [
    "no_iter = 10 * (60/15) # 10 minutes with 15 seconds between each iteration"
   ]
  },
  {
   "cell_type": "code",
   "execution_count": 8,
   "metadata": {},
   "outputs": [
    {
     "name": "stdout",
     "output_type": "stream",
     "text": [
      "Corrupt packet, expected length 26 got 4 -> Retrying!\n",
      "Corrupt packet, expected length 26 got 33 -> Retrying!\n",
      "Corrupt packet, expected length 26 got 4 -> Retrying!\n",
      "Corrupt packet, expected length 26 got 33 -> Retrying!\n",
      "Corrupt packet, expected length 26 got 6 -> Retrying!\n"
     ]
    }
   ],
   "source": [
    "i = 0;\n",
    "ts = list()\n",
    "data = []\n",
    "\n",
    "while i < no_iter:\n",
    "    data = getSmartMeterData(ser)\n",
    "    ts.append([datetime.datetime.now(),data['ACTUAL_POWER_IN']])\n",
    "    time.sleep(15)\n",
    "    i = i+1\n",
    "    pass"
   ]
  },
  {
   "cell_type": "code",
   "execution_count": 9,
   "metadata": {
    "scrolled": false
   },
   "outputs": [
    {
     "data": {
      "text/html": [
       "<div>\n",
       "<style scoped>\n",
       "    .dataframe tbody tr th:only-of-type {\n",
       "        vertical-align: middle;\n",
       "    }\n",
       "\n",
       "    .dataframe tbody tr th {\n",
       "        vertical-align: top;\n",
       "    }\n",
       "\n",
       "    .dataframe thead th {\n",
       "        text-align: right;\n",
       "    }\n",
       "</style>\n",
       "<table border=\"1\" class=\"dataframe\">\n",
       "  <thead>\n",
       "    <tr style=\"text-align: right;\">\n",
       "      <th></th>\n",
       "      <th>datetime</th>\n",
       "      <th>value</th>\n",
       "    </tr>\n",
       "  </thead>\n",
       "  <tbody>\n",
       "    <tr>\n",
       "      <th>0</th>\n",
       "      <td>2018-06-06 19:57:05.393820</td>\n",
       "      <td>0.456</td>\n",
       "    </tr>\n",
       "    <tr>\n",
       "      <th>1</th>\n",
       "      <td>2018-06-06 19:57:20.414155</td>\n",
       "      <td>0.456</td>\n",
       "    </tr>\n",
       "    <tr>\n",
       "      <th>2</th>\n",
       "      <td>2018-06-06 19:57:35.421732</td>\n",
       "      <td>0.456</td>\n",
       "    </tr>\n",
       "    <tr>\n",
       "      <th>3</th>\n",
       "      <td>2018-06-06 19:57:50.443943</td>\n",
       "      <td>0.456</td>\n",
       "    </tr>\n",
       "    <tr>\n",
       "      <th>4</th>\n",
       "      <td>2018-06-06 19:58:05.466717</td>\n",
       "      <td>0.456</td>\n",
       "    </tr>\n",
       "  </tbody>\n",
       "</table>\n",
       "</div>"
      ],
      "text/plain": [
       "                    datetime  value\n",
       "0 2018-06-06 19:57:05.393820  0.456\n",
       "1 2018-06-06 19:57:20.414155  0.456\n",
       "2 2018-06-06 19:57:35.421732  0.456\n",
       "3 2018-06-06 19:57:50.443943  0.456\n",
       "4 2018-06-06 19:58:05.466717  0.456"
      ]
     },
     "execution_count": 9,
     "metadata": {},
     "output_type": "execute_result"
    }
   ],
   "source": [
    "df = pd.DataFrame.from_dict(ts)\n",
    "df.columns = ['datetime', 'value']\n",
    "df.set_index('datetime')\n",
    "df.head(5)"
   ]
  },
  {
   "cell_type": "code",
   "execution_count": 10,
   "metadata": {},
   "outputs": [
    {
     "data": {
      "text/plain": [
       "<matplotlib.axes._subplots.AxesSubplot at 0x7fe2b33e3358>"
      ]
     },
     "execution_count": 10,
     "metadata": {},
     "output_type": "execute_result"
    }
   ],
   "source": [
    "import matplotlib.pyplot as plt\n",
    "import matplotlib.dates as mdates\n",
    "\n",
    "fig, ax = plt.subplots()\n",
    "ax.xaxis_date(tz=None)\n",
    "ax.xaxis.set_major_formatter(mdates.DateFormatter(\"%H:%M:%S\"))\n",
    "\n",
    "df.plot(x='datetime',y='value',label='Actual Power IN (kW)',ax=ax)"
   ]
  },
  {
   "cell_type": "markdown",
   "metadata": {},
   "source": [
    "## The verbose version, showing the P1 data"
   ]
  },
  {
   "cell_type": "code",
   "execution_count": 11,
   "metadata": {},
   "outputs": [
    {
     "name": "stdout",
     "output_type": "stream",
     "text": [
      "Line: /XMX5LGBBLA4415507877\n",
      "Line: \n",
      "Line: 1-3:0.2.8(50)\n",
      "Line: 0-0:1.0.0(180606200602S)\n",
      "Line: 0-0:96.1.1(4530303435303034323030363837303138)\n",
      "Line: 1-0:1.8.1(000010.060*kWh)\n",
      "Line: 1-0:1.8.2(000014.113*kWh)\n",
      "Line: 1-0:2.8.1(000000.000*kWh)\n",
      "Line: 1-0:2.8.2(000000.000*kWh)\n",
      "Line: 0-0:96.14.0(0002)\n",
      "Line: 1-0:1.7.0(00.466*kW)\n",
      "Line: 1-0:2.7.0(00.000*kW)\n",
      "Line: 0-0:96.7.21(00002)\n",
      "Line: 0-0:96.7.9(00000)\n",
      "Line: 1-0:99.97.0(0)(0-0:96.7.19)\n",
      "Line: 1-0:32.32.0(00000)\n",
      "Line: 1-0:32.36.0(00000)\n",
      "Line: 0-0:96.13.0()\n",
      "Line: 1-0:32.7.0(231.0*V)\n",
      "Line: 1-0:31.7.0(002*A)\n",
      "Line: 1-0:21.7.0(00.466*kW)\n",
      "Line: 1-0:22.7.0(00.000*kW)\n",
      "Line: 0-1:24.1.0(003)\n",
      "Line: 0-1:96.1.0(4730303332353635353532323234393138)\n",
      "Line: 0-1:24.2.1(180606200509S)(00002.384*m3)\n",
      "Line: !8E3F\n",
      "Meter Reading electricity delivered to client (low tariff) in 0,001 kWh:\t\t10.060 kWh\n",
      "Meter Reading electricity delivered to client (normal tariff) in 0,001 kWh:\t\t14.113 kWh\n",
      "Meter Reading electricity delivered by client (low tariff) in 0,001 kWh:\t\t0.000 kWh\n",
      "Meter Reading electricity delivered by client (normal tariff) in 0,001 kWh:\t\t0.000 kWh\n",
      "Actual electricity power delivered (+P) in 1 Watt resolution:\t\t\t\t0.466 kW\n",
      "Actual electricity power received (-P) in 1 Watt resolution:\t\t\t\t0.000 kW\n",
      "Gas Data - Gas delivered to client in m3:\t\t\t\t\t\t2.384 m3\n"
     ]
    },
    {
     "data": {
      "text/plain": [
       "{'ACTUAL_POWER_IN': 0.466,\n",
       " 'ACTUAL_POWER_OUT': 0.0,\n",
       " 'READING_GAS_IN': 2.384,\n",
       " 'READING_POWER_IN_LOW_TARIFF': 10.06,\n",
       " 'READING_POWER_IN_NORM_TARIFF': 14.113,\n",
       " 'READING_POWER_OUT_LOW_TARIFF': 0.0,\n",
       " 'READING_POWER_OUT_NORM_TARIFF': 0.0}"
      ]
     },
     "execution_count": 11,
     "metadata": {},
     "output_type": "execute_result"
    }
   ],
   "source": [
    "getSmartMeterData(ser,printOutput = True, verbose = True)"
   ]
  },
  {
   "cell_type": "markdown",
   "metadata": {},
   "source": [
    "## Closing the serial port connection"
   ]
  },
  {
   "cell_type": "code",
   "execution_count": 12,
   "metadata": {},
   "outputs": [],
   "source": [
    "#Close port and show status\n",
    "try:\n",
    "    ser.close()\n",
    "except:\n",
    "    print (\"Fout: %s.\" % ser.name )"
   ]
  }
 ],
 "metadata": {
  "kernelspec": {
   "display_name": "Python 3",
   "language": "python",
   "name": "python3"
  },
  "language_info": {
   "codemirror_mode": {
    "name": "ipython",
    "version": 3
   },
   "file_extension": ".py",
   "mimetype": "text/x-python",
   "name": "python",
   "nbconvert_exporter": "python",
   "pygments_lexer": "ipython3",
   "version": "3.4.8"
  }
 },
 "nbformat": 4,
 "nbformat_minor": 2
}
